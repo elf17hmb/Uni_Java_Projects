{
 "cells": [
  {
   "cell_type": "code",
   "execution_count": null,
   "metadata": {},
   "outputs": [],
   "source": []
  },
  {
   "cell_type": "markdown",
   "metadata": {},
   "source": [
    "## Aufgabe\n",
    "\n",
    "Eine häufige Aufgabe für Clusteralgorithmen ist die Segmentierung von Bildern. Im Beispiel ist ein Satellitenbild aus dem Landsat-Programm gegeben. Das Bild hat eine Größe von 1907 x 1784 Pixeln. Mit einer Auflösung von 30 x 30 m pro Pixel ist also eine Fläche von ca. 57 x 53 km abgedeckt. Das Aufzeichnungssystem ist in der Lage das 6 Bänder des elektromagentischen Spektrums abzudecken (siehe Abbildung). Versuchen Sie durch unterschiedliche Clusteranzahl einzelne Landschaftsstrukturen bzw. Vegetationsbereiche zu bestimmen.\n",
    "\n",
    "![Frequenzbänder](landsat.png)"
   ]
  },
  {
   "cell_type": "code",
   "execution_count": 7,
   "metadata": {},
   "outputs": [],
   "source": [
    "import scipy.io as sio\n",
    "\n",
    "data = sio.loadmat(\"sD_ZD10.mat\")\n",
    "satImg = data[\"sD_Colorado\"][\"data\"][0][0]"
   ]
  },
  {
   "cell_type": "code",
   "execution_count": null,
   "metadata": {},
   "outputs": [],
   "source": []
  }
 ],
 "metadata": {
  "kernelspec": {
   "display_name": "Python 3",
   "language": "python",
   "name": "python3"
  },
  "language_info": {
   "codemirror_mode": {
    "name": "ipython",
    "version": 3
   },
   "file_extension": ".py",
   "mimetype": "text/x-python",
   "name": "python",
   "nbconvert_exporter": "python",
   "pygments_lexer": "ipython3",
   "version": "3.7.1"
  }
 },
 "nbformat": 4,
 "nbformat_minor": 2
}
