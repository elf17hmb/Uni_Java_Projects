{
 "cells": [
  {
   "cell_type": "code",
   "execution_count": 2,
   "metadata": {},
   "outputs": [],
   "source": [
    "import numpy as np\n",
    "import matplotlib.pyplot as plt\n",
    "\n",
    "plt.rcParams[\"figure.figsize\"] = (12, 5)\n",
    "\n",
    "from sklearn.linear_model import LinearRegression"
   ]
  },
  {
   "cell_type": "code",
   "execution_count": 3,
   "metadata": {},
   "outputs": [],
   "source": [
    "m=5\n",
    "n=3\n",
    "\n",
    "x = np.linspace(0,100).reshape(-1,1)\n",
    "y_org = m*x+n"
   ]
  },
  {
   "cell_type": "code",
   "execution_count": 4,
   "metadata": {},
   "outputs": [],
   "source": [
    "mu = 0;\n",
    "sigma = 100; ##macht den Rauschanteil beeinflussbar\n",
    "\n",
    "y = y_org + sigma * np.random.randn(y_org.shape[0],1) + mu"
   ]
  },
  {
   "cell_type": "markdown",
   "metadata": {},
   "source": [
    "# Aufgabe\n",
    "\n",
    "Gegeben sind Eingabedaten, die durch eine lineare Funktion $y=m \\cdot x+n$ erzeugt uind anschließend mit einer gauss-verteilten Stichprobe verrauscht wurden. Schätzen Sie mit Hilfe von linearer Regression ein Model auf den verrauschten Daten. Vergleichen Sie das Bestimmtheitsmaß der Modellschätzung bezüglich der Trainingsdaten $y$ und der eigentlich zu Grunde liegenden Funktion $y\\_org$.\n",
    "Visualisieren sie die Daten und die Modellschätzung. Untersuchen Sie anschließend den Einfluss des Signal-Rausch-Verhältnisses. Was passiert, wenn sie den Rauschanteil erhöhen?"
   ]
  },
  {
   "cell_type": "code",
   "execution_count": 5,
   "metadata": {},
   "outputs": [
    {
     "name": "stdout",
     "output_type": "stream",
     "text": [
      "Intercept:[11.89260921]\n",
      "Coef:[[4.35079209]]\n"
     ]
    }
   ],
   "source": [
    "model= LinearRegression()\n",
    "model.fit(x,y)\n",
    "print(\"Intercept:\"+str(model.intercept_))\n",
    "print(\"Coef:\"+str(model.coef_))"
   ]
  },
  {
   "cell_type": "code",
   "execution_count": 6,
   "metadata": {},
   "outputs": [
    {
     "data": {
      "image/png": "[encoded data removed]",
      "text/plain": [
       "<Figure size 432x288 with 1 Axes>"
      ]
     },
     "metadata": {
      "needs_background": "light"
     },
     "output_type": "display_data"
    }
   ],
   "source": [
    "plt.scatter(x,y)\n",
    "plt.plot(x,y_org)\n",
    "plt.plot(x,model.predict(x), color=\"red\")\n",
    "plt.show()"
   ]
  },
  {
   "cell_type": "code",
   "execution_count": 7,
   "metadata": {},
   "outputs": [
    {
     "name": "stdout",
     "output_type": "stream",
     "text": [
      "Bestimmtheitsmaß Ausgangsfunktion y_org und vorhergesehenem Model\n",
      "0.957525552584836\n",
      "Bestimmtheitsmaß Ausgangsfunktion verrauschtem Graph bzw. Trainingsdaten und vorgesehenem Model\n",
      "0.5755210616726723\n"
     ]
    }
   ],
   "source": [
    "from sklearn import metrics\n",
    "\n",
    "print(\"Bestimmtheitsmaß Ausgangsfunktion y_org und vorhergesehenem Model\")\n",
    "print(metrics.r2_score(y_org,model.predict(x)))\n",
    "print(\"Bestimmtheitsmaß Ausgangsfunktion verrauschtem Graph bzw. Trainingsdaten und vorgesehenem Model\")\n",
    "print(metrics.r2_score(y,model.predict(x)))\n",
    "\n",
    "## je höher der Rauschanteil, desto schlechter die Schätzung bzw größer die Abweichung von der Ausgangsfunktion"
   ]
  },
  {
   "cell_type": "code",
   "execution_count": null,
   "metadata": {},
   "outputs": [],
   "source": []
  }
 ],
 "metadata": {
  "kernelspec": {
   "display_name": "Python 3",
   "language": "python",
   "name": "python3"
  },
  "language_info": {
   "codemirror_mode": {
    "name": "ipython",
    "version": 3
   },
   "file_extension": ".py",
   "mimetype": "text/x-python",
   "name": "python",
   "nbconvert_exporter": "python",
   "pygments_lexer": "ipython3",
   "version": "3.7.1"
  }
 },
 "nbformat": 4,
 "nbformat_minor": 2
}
