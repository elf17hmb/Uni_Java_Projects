{
 "cells": [
  {
   "cell_type": "markdown",
   "metadata": {},
   "source": [
    "# Jupyter Notebooks\n",
    "\n",
    "Syntax for Markdown:\n",
    "\n",
    "[Hinweise und Anmerkungen zu Jupyter Notebooks](http://python.hs-augsburg.de:8888/notebooks/DuR/Hinweise%20und%20Anmerkungen%20zu%20Jupyter%20Notebooks.ipynb)\n",
    "\n",
    "[Jupyter-Seite](https://jupyter-notebook.readthedocs.io/en/stable/examples/Notebook/Working%20With%20Markdown%20Cells.html#)\n",
    "\n",
    "[Markdown](https://daringfireball.net/projects/markdown/syntax)"
   ]
  },
  {
   "cell_type": "code",
   "execution_count": null,
   "metadata": {},
   "outputs": [],
   "source": [
    "\n"
   ]
  },
  {
   "cell_type": "markdown",
   "metadata": {},
   "source": [
    "# Variablenzuweisung"
   ]
  },
  {
   "cell_type": "code",
   "execution_count": 4,
   "metadata": {},
   "outputs": [
    {
     "name": "stdout",
     "output_type": "stream",
     "text": [
      "3.14\n",
      "3\n",
      "10\n",
      "3.14 => 3\n"
     ]
    }
   ],
   "source": [
    "a=3.14\n",
    "b=int(a)\n",
    "c=\"7\"\n",
    "d=int(c)\n",
    "\n",
    "print(a)\n",
    "print(b)\n",
    "print(d+3)\n",
    "# print (a + \" \" + b) ERROR\n",
    "print(str(a)+ \" => \" + str(b))\n"
   ]
  },
  {
   "cell_type": "markdown",
   "metadata": {},
   "source": [
    "### Aufgabe\n",
    "\n",
    "Lassen Sie den Nutzer eine Zahl eingeben und berechnen Sie für seine Eingabe das Ergebnis der Funktion $y = \\frac{1}{2}x^3 - \\frac{1}{2}x^2 +2x + 5$. Geben Sie das Ergebnis in verständlicher Form aus, z.B. \"Für die Eingabe x=5 lautet das Ergebnis y=65\""
   ]
  },
  {
   "cell_type": "code",
   "execution_count": 6,
   "metadata": {},
   "outputs": [
    {
     "name": "stdout",
     "output_type": "stream",
     "text": [
      "Gib Zahl ein3\n",
      "Das ergebnis für x=3.0beträgt y=13.5\n"
     ]
    }
   ],
   "source": [
    "x = float (input(\"Gib Zahl ein\"))\n",
    "y = .5*x**3\n",
    "print(\"Das ergebnis für x=\"+str(x) + \"beträgt y=\" + str(y))"
   ]
  },
  {
   "cell_type": "code",
   "execution_count": null,
   "metadata": {},
   "outputs": [],
   "source": []
  },
  {
   "cell_type": "code",
   "execution_count": null,
   "metadata": {},
   "outputs": [],
   "source": []
  },
  {
   "cell_type": "markdown",
   "metadata": {},
   "source": [
    "# Verzweigung"
   ]
  },
  {
   "cell_type": "code",
   "execution_count": 7,
   "metadata": {},
   "outputs": [
    {
     "name": "stdout",
     "output_type": "stream",
     "text": [
      "Don't panic!\n"
     ]
    }
   ],
   "source": [
    "a = 15\n",
    "b = 27\n",
    "\n",
    "if a+b ==42:\n",
    "    print(\"Don't panic!\")\n",
    "elif a+b ==4711:\n",
    "    print(\"Smell you later\")\n",
    "else:\n",
    "    print(\"Hello World\")"
   ]
  },
  {
   "cell_type": "markdown",
   "metadata": {},
   "source": [
    "# Schleifen"
   ]
  },
  {
   "cell_type": "markdown",
   "metadata": {},
   "source": [
    "## Abweisende Schleife"
   ]
  },
  {
   "cell_type": "code",
   "execution_count": 8,
   "metadata": {},
   "outputs": [
    {
     "name": "stdout",
     "output_type": "stream",
     "text": [
      "In der Schleife\n",
      "In der Schleife\n",
      "In der Schleife\n",
      "Außerhalb der Schleife\n"
     ]
    }
   ],
   "source": [
    "a=10\n",
    "b=7\n",
    "\n",
    "while a>b:\n",
    "    a=a-1\n",
    "    print(\"In der Schleife\")\n",
    "print(\"Außerhalb der Schleife\")"
   ]
  },
  {
   "cell_type": "markdown",
   "metadata": {},
   "source": [
    "### Aufgabe\n",
    "\n",
    "Der Nutzer soll eine Zahl eingeben, für die alle Teiler auszugeben sind."
   ]
  },
  {
   "cell_type": "code",
   "execution_count": 15,
   "metadata": {},
   "outputs": [
    {
     "name": "stdout",
     "output_type": "stream",
     "text": [
      "Gib eine Zahl ein 10\n",
      "1\n",
      "2\n",
      "5\n"
     ]
    }
   ],
   "source": [
    "x = float (input(\"Gib eine Zahl ein \"))\n",
    "z = 1\n",
    "while(x!=z):\n",
    "    if(x%z==0):\n",
    "        print(z)\n",
    "    z=z+1"
   ]
  },
  {
   "cell_type": "code",
   "execution_count": 19,
   "metadata": {},
   "outputs": [
    {
     "name": "stdout",
     "output_type": "stream",
     "text": [
      "Gib eine Zahl ein: 10\n"
     ]
    }
   ],
   "source": [
    "x=int(input(\"Gib eine Zahl ein: \"))\n",
    "x=y//2\n",
    "\n",
    "while(x>1):\n",
    "    if(y%x == 0):\n",
    "        print(str(x) + \" ist Teiler von \" + str(y))\n",
    "    x=x-1"
   ]
  },
  {
   "cell_type": "markdown",
   "metadata": {},
   "source": [
    "## Zählschleife"
   ]
  },
  {
   "cell_type": "code",
   "execution_count": 20,
   "metadata": {},
   "outputs": [
    {
     "name": "stdout",
     "output_type": "stream",
     "text": [
      "1\n",
      "2\n",
      "4\n",
      "7\n",
      "5\n"
     ]
    }
   ],
   "source": [
    "for i in [1,2,4,7,5]:\n",
    "    print(i)"
   ]
  },
  {
   "cell_type": "code",
   "execution_count": 21,
   "metadata": {},
   "outputs": [
    {
     "name": "stdout",
     "output_type": "stream",
     "text": [
      "1\n",
      "2\n",
      "3\n",
      "4\n",
      "5\n",
      "6\n"
     ]
    }
   ],
   "source": [
    "for i in range(1,7):\n",
    "    print(i)\n",
    "    "
   ]
  },
  {
   "cell_type": "markdown",
   "metadata": {},
   "source": [
    "### Aufgabe\n",
    "\n",
    "Schreiben Sie ein Programm, welches die Zahlen 1 bis 100 aufsummiert. Verwenden sie dazu\n",
    "1. eine Zahlschleife, bei der alle 10 Iterationen dem Nutzer mitgeteilt wird, dass das Programm noch rechnet.\n",
    "2. eine geeignet Liste erstellen und die Funktion sum( ) verwenden."
   ]
  },
  {
   "cell_type": "markdown",
   "metadata": {},
   "source": [
    "# Datenstrukturen\n",
    "\n",
    "## Listen\n",
    "\n",
    "Lists are the most versatile of Python's compound data types. A list contains items separated by commas and enclosed within square brackets ([]). To some extent, lists are similar to arrays in C. One difference between them is that all the items belonging to a list can be of different data type."
   ]
  },
  {
   "cell_type": "code",
   "execution_count": 22,
   "metadata": {},
   "outputs": [
    {
     "name": "stdout",
     "output_type": "stream",
     "text": [
      "[1, 2, 3, 4, 5, 6]\n",
      "6\n"
     ]
    }
   ],
   "source": [
    "a = [1,2,3,4,5,6]\n",
    "#a = \"Hallo Welt\"\n",
    "\n",
    "print(a)\n",
    "print(len(a))"
   ]
  },
  {
   "cell_type": "code",
   "execution_count": 23,
   "metadata": {},
   "outputs": [
    {
     "name": "stdout",
     "output_type": "stream",
     "text": [
      "3\n"
     ]
    }
   ],
   "source": [
    "print(a[2])"
   ]
  },
  {
   "cell_type": "code",
   "execution_count": 24,
   "metadata": {},
   "outputs": [
    {
     "name": "stdout",
     "output_type": "stream",
     "text": [
      "4\n"
     ]
    }
   ],
   "source": [
    "print(a[-3]) #3. Element von Hinten"
   ]
  },
  {
   "cell_type": "code",
   "execution_count": 25,
   "metadata": {},
   "outputs": [
    {
     "name": "stdout",
     "output_type": "stream",
     "text": [
      "[3, 4, 5]\n"
     ]
    }
   ],
   "source": [
    "print(a[2:5])"
   ]
  },
  {
   "cell_type": "code",
   "execution_count": 28,
   "metadata": {},
   "outputs": [
    {
     "name": "stdout",
     "output_type": "stream",
     "text": [
      "[3, 4, 5, 6]\n",
      "[1, 2]\n"
     ]
    }
   ],
   "source": [
    "print(a[2:])\n",
    "print(a[:2])"
   ]
  },
  {
   "cell_type": "code",
   "execution_count": 29,
   "metadata": {},
   "outputs": [
    {
     "name": "stdout",
     "output_type": "stream",
     "text": [
      "[1, 2, 3, 4, 5, 6, 1, 2, 3, 4, 5, 6, 1, 2, 3, 4, 5, 6, 1, 2, 3, 4, 5, 6, 1, 2, 3, 4, 5, 6]\n"
     ]
    }
   ],
   "source": [
    "print(5*a)"
   ]
  },
  {
   "cell_type": "code",
   "execution_count": 30,
   "metadata": {},
   "outputs": [
    {
     "name": "stdout",
     "output_type": "stream",
     "text": [
      "[1, 2, 3, 1, 2]\n"
     ]
    }
   ],
   "source": [
    "mylist = []\n",
    "mylist.append(1)\n",
    "mylist.append(2)\n",
    "mylist.append(3)\n",
    "mylist = mylist + [1,2]\n",
    "\n",
    "print(mylist)"
   ]
  },
  {
   "cell_type": "markdown",
   "metadata": {},
   "source": [
    "### Aufgabe\n",
    "\n",
    "Gegeben ist die Liste \n",
    "\n",
    "    werte = [12,22, \"Erfurt\", 34.5, \"Zwickau\", 102.45, 103, 12.3, 45]\n",
    "\n",
    "Schreiben Sie ein Programm, dass die Elemente dieser Liste in drei verschiedene Listen für Ganzzahlen, Gleitpunktzahlen und Zeichenketten einfügt. Die Originalliste soll dabei erhalten bleiben."
   ]
  },
  {
   "cell_type": "markdown",
   "metadata": {},
   "source": [
    "## Tupel\n",
    "A tuple is another sequence data type that is similar to the list. A tuple consists of a number of values separated by commas. Unlike lists, however, tuples are enclosed within parentheses.\n",
    "\n",
    "The main differences between lists and tuples are: Lists are enclosed in brackets ( [ ] ) and their elements and size can be changed, while tuples are enclosed in parentheses ( ( ) ) and cannot be updated. Tuples can be thought of as read-only lists."
   ]
  },
  {
   "cell_type": "code",
   "execution_count": null,
   "metadata": {},
   "outputs": [],
   "source": []
  },
  {
   "cell_type": "markdown",
   "metadata": {},
   "source": [
    "## Dictionaries\n",
    "Python's dictionaries are kind of hash table type. They work like associative arrays or hashes found in Perl and consist of key-value pairs. A dictionary key can be almost any Python type, but are usually numbers or strings. Values, on the other hand, can be any arbitrary Python object."
   ]
  },
  {
   "cell_type": "code",
   "execution_count": null,
   "metadata": {},
   "outputs": [],
   "source": []
  },
  {
   "cell_type": "markdown",
   "metadata": {},
   "source": [
    "### Aufgabe\n",
    "\n",
    "Erzeugen Sie ein Disctionary, in dem für die ganzen Zahlen von 0 bis 10 jeweils das Quadrat der Zahl hinterlegt abgespeichert. Entfernen sie anschließend ale Einträge, bei denen die quadratierte Zahl gerade ist. "
   ]
  },
  {
   "cell_type": "markdown",
   "metadata": {},
   "source": [
    "# Funktionen"
   ]
  },
  {
   "cell_type": "code",
   "execution_count": null,
   "metadata": {},
   "outputs": [],
   "source": []
  },
  {
   "cell_type": "markdown",
   "metadata": {},
   "source": [
    "### Aufgabe\n",
    "\n",
    "Erstellen Sie eine Funktion, die das größte gemeinsame Vielfache zweier Zahlen berechnet."
   ]
  },
  {
   "cell_type": "markdown",
   "metadata": {},
   "source": [
    "# Package import"
   ]
  },
  {
   "cell_type": "code",
   "execution_count": null,
   "metadata": {},
   "outputs": [],
   "source": []
  },
  {
   "cell_type": "markdown",
   "metadata": {},
   "source": [
    "# Objektorientierung"
   ]
  },
  {
   "cell_type": "code",
   "execution_count": null,
   "metadata": {},
   "outputs": [],
   "source": []
  },
  {
   "cell_type": "markdown",
   "metadata": {},
   "source": [
    "### Aufgaben zum Selbstlösen\n",
    "\n",
    "Die folgenden Aufgaben sind aus der Aufgabensammlung \"Grundlagen der Programmierung 1\" entnommen. Sie sollen diesmal in Python umgesetz werden. Sie können sich gerne an Ihrer Lösung aus \"GdP 1\" orientieren. Versuchen Sie aber mit den in Python zur Verfügung stehenden Mitteln ggf. eine alternative Umsetzung zu finden.Es besteht kein Zwang, die Aufgaben objektorientiert umzusetzen (Der Begriff Methode ist dann natürlich als Funktion zu verstehen).\n",
    "\n",
    "   1. Schreiben Sie eine Methode, die die Dimensionen eines rechteckigen Raumes in Metern erhält (in Form zweier Parameter für Länge und Breite), und dann berechnet und zurückgibt, wie viele Quadratmeter Teppich für diesen Raum benötigt werden.\n",
    "\n",
    "   2. Schreiben Sie nun eine zweite Methode, in der auch noch zusätzlich die Kosten pro Quadratmeter Teppich angegeben werden und diese am Ende zurückgegeben werden.\n",
    "\n",
    "   3. Schreiben Sie eine Methode `calculateDistance`, die zwei zweidimensionale Punkte mit ihren x- und y-Koordinaten als Parameter entgegennimmt und mit dem Satz des Pythagoras deren Abstand berechnet und zurückgibt. Schreiben Sie nun eine zweite Methode `calculateArea`, die mit Hilfe des Radius (der als Parameter in die Methode gegeben wird) den Flächeninhalt eines Kreises berechnet und zurückgibt (Recherchieren Sie dazu, wie man in Java sinnvoll mit Pi rechnen kann!). Schreiben Sie nun eine dritte Methode `calculateCircleArea`, die den Mittelpunkt sowie einen Punkt auf der Kreislinie als Parameter bekommt und unter Nutzung der beiden zuvor definierten Funktionen den Flächeninhalt berechnet und zurückgibt.\n",
    "\n",
    "   4. Ein Händler verlangt für seine Waren folgende Preise: \n",
    "        - 7 Cent pro Schraube (engl. screw)\n",
    "        - 4 Cent pro Mutter (engl. screw nut)\n",
    "        - 2 Cent pro Unterlegscheibe (engl. grommet)\n",
    "\n",
    "   Schreiben Sie eine Methode namens `calculatePrice`, die vom Anwender die Anzahl der Schrauben, Muttern und Unterlegscheiben per Eingabedialog erfragt und dann den Gesamtbetrag berechnet und auf der Konsole ausgibt.\n",
    "   \n",
    "   5. Schreiben Sie ein einfaches Schere-Stein-Papier-Spiel, in welchem Sie gegen das Programm spielen. Wer mit den Spielregeln nicht vertraut ist, kann diese unter https://de.wikipedia.org/wiki/Schere,_Stein,_Papier nachlesen. Dabei brauchen Sie einen Zufallsgenerator von zufälligen Zahlen von z.B. 0 bis 2, wobei jeder der drei möglichen Zahlen, die gewählt werden kann, einer Handgeste entspricht (0 = Schere, 1 = Stein, 2 = Papier). Außerdem muss auch der Spieler dazu aufgefordert werden, eine Zahl einzugeben und sich damit für Schere, Stein oder Papier zu entscheiden. Sobald das geschehen ist, werden die beiden Eingaben von dem Spiel ausgewertet und das Ergebnis auf der Konsole ausgegeben."
   ]
  },
  {
   "cell_type": "code",
   "execution_count": null,
   "metadata": {},
   "outputs": [],
   "source": []
  }
 ],
 "metadata": {
  "kernelspec": {
   "display_name": "Python 3",
   "language": "python",
   "name": "python3"
  },
  "language_info": {
   "codemirror_mode": {
    "name": "ipython",
    "version": 3
   },
   "file_extension": ".py",
   "mimetype": "text/x-python",
   "name": "python",
   "nbconvert_exporter": "python",
   "pygments_lexer": "ipython3",
   "version": "3.7.1"
  }
 },
 "nbformat": 4,
 "nbformat_minor": 2
}
