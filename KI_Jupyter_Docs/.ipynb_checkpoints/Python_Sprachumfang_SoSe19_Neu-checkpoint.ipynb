{
 "cells": [
  {
   "cell_type": "markdown",
   "metadata": {},
   "source": [
    "# Jupyter Notebooks\n",
    "\n",
    "Syntax for Markdown:\n",
    "\n",
    "[Hinweise und Anmerkungen zu Jupyter Notebooks](http://python.hs-augsburg.de:8888/notebooks/DuR/Hinweise%20und%20Anmerkungen%20zu%20Jupyter%20Notebooks.ipynb)\n",
    "\n",
    "[Jupyter-Seite](https://jupyter-notebook.readthedocs.io/en/stable/examples/Notebook/Working%20With%20Markdown%20Cells.html#)\n",
    "\n",
    "[Markdown](https://daringfireball.net/projects/markdown/syntax)"
   ]
  },
  {
   "cell_type": "code",
   "execution_count": 1,
   "metadata": {},
   "outputs": [
    {
     "name": "stdout",
     "output_type": "stream",
     "text": [
      "Hello World\n"
     ]
    }
   ],
   "source": [
    "print(\"Hello World\")"
   ]
  },
  {
   "cell_type": "code",
   "execution_count": 6,
   "metadata": {},
   "outputs": [
    {
     "name": "stdout",
     "output_type": "stream",
     "text": [
      "Gib etwas einetwas\n"
     ]
    }
   ],
   "source": [
    "x=input(\"Gib etwas ein\")"
   ]
  },
  {
   "cell_type": "markdown",
   "metadata": {},
   "source": [
    "# Variablenzuweisung"
   ]
  },
  {
   "cell_type": "code",
   "execution_count": 14,
   "metadata": {},
   "outputs": [],
   "source": [
    "a=5\n",
    "d,e=1,2\n",
    "b=3"
   ]
  },
  {
   "cell_type": "code",
   "execution_count": 23,
   "metadata": {},
   "outputs": [
    {
     "name": "stdout",
     "output_type": "stream",
     "text": [
      "5\n",
      "1\n",
      "8\n",
      "2\n",
      "15\n",
      "1.6666666666666667\n",
      "25\n",
      "1\n",
      "1.7320508075688772\n",
      "1\n",
      "2\n"
     ]
    }
   ],
   "source": [
    "import math\n",
    "print(a)\n",
    "print(d)\n",
    "print(e)\n",
    "print(a+b)\n",
    "print(a-b)\n",
    "print(a*b)\n",
    "print(a/b)\n",
    "print(pow(a,2))\n",
    "print(abs(-1))\n",
    "print(math.sqrt(b))\n",
    "print(a//b)\n",
    "print(a%b)"
   ]
  },
  {
   "cell_type": "code",
   "execution_count": 24,
   "metadata": {},
   "outputs": [],
   "source": [
    "a=1.1\n",
    "b=int(a)\n",
    "c=str(b)"
   ]
  },
  {
   "cell_type": "markdown",
   "metadata": {},
   "source": [
    "### Aufgabe\n",
    "\n",
    "Lassen Sie den Nutzer eine Zahl eingeben und berechnen Sie für seine Eingabe das Ergebnis der Funktion $y = \\frac{1}{2}x^3 - \\frac{1}{2}x^2 +2x + 5$. Geben Sie das Ergebnis in verständlicher Form aus, z.B. \"Für die Eingabe x=5 lautet das Ergebnis y=65\""
   ]
  },
  {
   "cell_type": "code",
   "execution_count": 27,
   "metadata": {},
   "outputs": [
    {
     "name": "stdout",
     "output_type": "stream",
     "text": [
      "Gib eine Zahl ein 5\n",
      "Für die Eingabe x=5 lautet das Ergebnis y=65\n"
     ]
    }
   ],
   "source": [
    "x=int(input(\"Gib eine Zahl ein \"))\n",
    "y=1/2*(x**3)-1/2*(x**2)+2*x+5\n",
    "print(\"Für die Eingabe x=\"+str(x)+\" lautet das Ergebnis y=\"+str(int(y)))"
   ]
  },
  {
   "cell_type": "markdown",
   "metadata": {},
   "source": [
    "# Verzweigung"
   ]
  },
  {
   "cell_type": "code",
   "execution_count": 35,
   "metadata": {},
   "outputs": [
    {
     "name": "stdout",
     "output_type": "stream",
     "text": [
      "Don't panic\n"
     ]
    }
   ],
   "source": [
    "a=15\n",
    "b=27\n",
    "if a+b==42:\n",
    "    print(\"Don't panic\")\n",
    "elif a+b==77:\n",
    "    print(\"77\")\n",
    "else:\n",
    "    print(\"Hello World\")"
   ]
  },
  {
   "cell_type": "markdown",
   "metadata": {},
   "source": [
    "# Schleifen"
   ]
  },
  {
   "cell_type": "markdown",
   "metadata": {},
   "source": [
    "## Abweisende Schleife"
   ]
  },
  {
   "cell_type": "code",
   "execution_count": 37,
   "metadata": {},
   "outputs": [
    {
     "name": "stdout",
     "output_type": "stream",
     "text": [
      "Innerhalb der Schleife\n",
      "Innerhalb der Schleife\n",
      "Innerhalb der Schleife\n",
      "Außerhalb der Schleife\n"
     ]
    }
   ],
   "source": [
    "a=10\n",
    "b=7\n",
    "while(a>b):\n",
    "    a=a-1\n",
    "    print(\"Innerhalb der Schleife\")\n",
    "print(\"Außerhalb der Schleife\")"
   ]
  },
  {
   "cell_type": "markdown",
   "metadata": {},
   "source": [
    "### Aufgabe\n",
    "\n",
    "Der Nutzer soll eine Zahl eingeben, für die alle Teiler auszugeben sind."
   ]
  },
  {
   "cell_type": "code",
   "execution_count": 41,
   "metadata": {},
   "outputs": [
    {
     "name": "stdout",
     "output_type": "stream",
     "text": [
      "Gib eine Zahl ein 16\n",
      "8.0\n",
      "8.0\n",
      "4.0\n",
      "2.0\n",
      "1.0\n"
     ]
    }
   ],
   "source": [
    "x=int(input(\"Gib eine Zahl ein \"))\n",
    "y=x/2\n",
    "print(y)\n",
    "while(y>0):\n",
    "    if(x%y==0):\n",
    "        print(y)\n",
    "    y-=1"
   ]
  },
  {
   "cell_type": "markdown",
   "metadata": {},
   "source": [
    "## Zählschleife"
   ]
  },
  {
   "cell_type": "code",
   "execution_count": 42,
   "metadata": {},
   "outputs": [
    {
     "name": "stdout",
     "output_type": "stream",
     "text": [
      "1\n",
      "2\n",
      "3\n",
      "4\n",
      "5\n",
      "6\n"
     ]
    }
   ],
   "source": [
    "for i in [1,2,3,4,5,6]:\n",
    "    print(i)"
   ]
  },
  {
   "cell_type": "code",
   "execution_count": 44,
   "metadata": {},
   "outputs": [
    {
     "name": "stdout",
     "output_type": "stream",
     "text": [
      "1\n",
      "2\n",
      "3\n",
      "4\n",
      "5\n",
      "6\n",
      "7\n",
      "8\n",
      "9\n",
      "10\n"
     ]
    }
   ],
   "source": [
    "for i in range(1,11):\n",
    "    print(i)"
   ]
  },
  {
   "cell_type": "markdown",
   "metadata": {},
   "source": [
    "### Aufgabe\n",
    "\n",
    "Schreiben Sie ein Programm, welches die Zahlen 1 bis 100 aufsummiert. Verwenden sie dazu\n",
    "1. eine Zahlschleife, bei der alle 10 Iterationen dem Nutzer mitgeteilt wird, dass das Programm noch rechnet.\n",
    "2. eine geeignet Liste erstellen und die Funktion sum( ) verwenden."
   ]
  },
  {
   "cell_type": "code",
   "execution_count": 22,
   "metadata": {},
   "outputs": [
    {
     "name": "stdout",
     "output_type": "stream",
     "text": [
      "arbeite noch!\n",
      "arbeite noch!\n",
      "arbeite noch!\n",
      "arbeite noch!\n",
      "arbeite noch!\n",
      "arbeite noch!\n",
      "arbeite noch!\n",
      "arbeite noch!\n",
      "arbeite noch!\n",
      "arbeite noch!\n",
      "5050\n"
     ]
    }
   ],
   "source": [
    "counter=0\n",
    "for i in range(1,101):\n",
    "    counter+=i\n",
    "    if(i%10==0):\n",
    "        print(\"arbeite noch!\")\n",
    "print(counter)"
   ]
  },
  {
   "cell_type": "code",
   "execution_count": 29,
   "metadata": {},
   "outputs": [
    {
     "name": "stdout",
     "output_type": "stream",
     "text": [
      "range(1, 5)\n",
      "10\n"
     ]
    }
   ],
   "source": [
    "listebishundert=range(1,5)\n",
    "print(listebishundert[:])\n",
    "print(sum(listebishundert))"
   ]
  },
  {
   "cell_type": "markdown",
   "metadata": {},
   "source": [
    "# Datenstrukturen\n",
    "\n",
    "## Listen\n",
    "\n",
    "Lists are the most versatile of Python's compound data types. A list contains items separated by commas and enclosed within square brackets ([]). To some extent, lists are similar to arrays in C. One difference between them is that all the items belonging to a list can be of different data type."
   ]
  },
  {
   "cell_type": "code",
   "execution_count": 5,
   "metadata": {},
   "outputs": [
    {
     "name": "stdout",
     "output_type": "stream",
     "text": [
      "[1, 2, 3, 4, 5]\n",
      "5\n"
     ]
    }
   ],
   "source": [
    "a = [1,2,3,4,5]\n",
    "#a = \"hallo\"\n",
    "\n",
    "print(a);\n",
    "print(len(a))"
   ]
  },
  {
   "cell_type": "code",
   "execution_count": 6,
   "metadata": {},
   "outputs": [
    {
     "name": "stdout",
     "output_type": "stream",
     "text": [
      "4\n"
     ]
    }
   ],
   "source": [
    "print(a[3])"
   ]
  },
  {
   "cell_type": "code",
   "execution_count": 7,
   "metadata": {},
   "outputs": [
    {
     "name": "stdout",
     "output_type": "stream",
     "text": [
      "3\n"
     ]
    }
   ],
   "source": [
    "print(a[-3])"
   ]
  },
  {
   "cell_type": "code",
   "execution_count": 8,
   "metadata": {},
   "outputs": [
    {
     "name": "stdout",
     "output_type": "stream",
     "text": [
      "[3, 4, 5]\n"
     ]
    }
   ],
   "source": [
    "print(a[2:5])"
   ]
  },
  {
   "cell_type": "code",
   "execution_count": 9,
   "metadata": {},
   "outputs": [
    {
     "name": "stdout",
     "output_type": "stream",
     "text": [
      "[1, 2, 3, 4, 5, 1, 2, 3, 4, 5, 1, 2, 3, 4, 5, 1, 2, 3, 4, 5, 1, 2, 3, 4, 5]\n"
     ]
    }
   ],
   "source": [
    "print(5*a)"
   ]
  },
  {
   "cell_type": "code",
   "execution_count": 10,
   "metadata": {},
   "outputs": [
    {
     "name": "stdout",
     "output_type": "stream",
     "text": [
      "[2, 3, 5, 6]\n"
     ]
    }
   ],
   "source": [
    "myList=[]\n",
    "myList.append(2)\n",
    "myList.append(3)\n",
    "myList=myList+[5,6]\n",
    "print(myList)"
   ]
  },
  {
   "cell_type": "markdown",
   "metadata": {},
   "source": [
    "### Aufgabe\n",
    "\n",
    "Gegeben ist die Liste \n",
    "\n",
    "    werte = [12,22, \"Erfurt\", 34.5, \"Zwickau\", 102.45, 103, 12.3, 45]\n",
    "\n",
    "Schreiben Sie ein Programm, dass die Elemente dieser Liste in drei verschiedene Listen für Ganzzahlen, Gleitpunktzahlen und Zeichenketten einfügt. Die Originalliste soll dabei erhalten bleiben."
   ]
  },
  {
   "cell_type": "code",
   "execution_count": 38,
   "metadata": {},
   "outputs": [
    {
     "name": "stdout",
     "output_type": "stream",
     "text": [
      "[12, 22, 103, 45]\n",
      "[34.5, 102.45, 12.3]\n",
      "['Erfurt', 'Zwickau']\n"
     ]
    }
   ],
   "source": [
    "werte = [12,22, \"Erfurt\", 34.5, \"Zwickau\", 102.45, 103, 12.3, 45]\n",
    "ganzzahlen=[]\n",
    "gleitpunktzahlen=[]\n",
    "zeichenketten=[]\n",
    "for i in werte:\n",
    "    if type(i)==int:\n",
    "        ganzzahlen.append(i)\n",
    "    if type(i)==float:\n",
    "        gleitpunktzahlen.append(i)\n",
    "    if type(i)==str:\n",
    "        zeichenketten.append(i)\n",
    "print(ganzzahlen)\n",
    "print(gleitpunktzahlen)\n",
    "print(zeichenketten)"
   ]
  },
  {
   "cell_type": "markdown",
   "metadata": {},
   "source": [
    "## Tupel\n",
    "A tuple is another sequence data type that is similar to the list. A tuple consists of a number of values separated by commas. Unlike lists, however, tuples are enclosed within parentheses.\n",
    "\n",
    "The main differences between lists and tuples are: Lists are enclosed in brackets ( [ ] ) and their elements and size can be changed, while tuples are enclosed in parentheses ( ( ) ) and cannot be updated. Tuples can be thought of as read-only lists."
   ]
  },
  {
   "cell_type": "code",
   "execution_count": 39,
   "metadata": {},
   "outputs": [
    {
     "name": "stdout",
     "output_type": "stream",
     "text": [
      "('Peter', 2)\n"
     ]
    }
   ],
   "source": [
    "b=[(\"Hallo\",1),(\"Peter\",2),(\"Laptop\",3)]\n",
    "print(b[1])"
   ]
  },
  {
   "cell_type": "markdown",
   "metadata": {},
   "source": [
    "## Dictionaries\n",
    "Python's dictionaries are kind of hash table type. They work like associative arrays or hashes found in Perl and consist of key-value pairs. A dictionary key can be almost any Python type, but are usually numbers or strings. Values, on the other hand, can be any arbitrary Python object."
   ]
  },
  {
   "cell_type": "code",
   "execution_count": 44,
   "metadata": {},
   "outputs": [
    {
     "name": "stdout",
     "output_type": "stream",
     "text": [
      "{'John': 1234, 'Peter': 12345}\n",
      "{'Peter': 12345}\n"
     ]
    }
   ],
   "source": [
    "phonebook={}\n",
    "phonebook[\"John\"]=1234\n",
    "phonebook[\"Peter\"]=12345\n",
    "print(phonebook)\n",
    "del(phonebook[\"John\"])\n",
    "print(phonebook)"
   ]
  },
  {
   "cell_type": "code",
   "execution_count": 47,
   "metadata": {},
   "outputs": [
    {
     "name": "stdout",
     "output_type": "stream",
     "text": [
      "{'Ela': 12, 'Peter': 34, 'John': 56}\n",
      "dict_keys(['Ela', 'Peter', 'John'])\n",
      "dict_values([12, 34, 56])\n"
     ]
    }
   ],
   "source": [
    "pb={\n",
    "    \"Ela\":12,\n",
    "    \"Peter\":34,\n",
    "    \"John\":56\n",
    "}\n",
    "print(pb)\n",
    "print(pb.keys())\n",
    "print(pb.values())"
   ]
  },
  {
   "cell_type": "code",
   "execution_count": 49,
   "metadata": {},
   "outputs": [
    {
     "name": "stdout",
     "output_type": "stream",
     "text": [
      "Ela\n",
      "Peter\n",
      "John\n",
      "Ela 12\n",
      "Peter 34\n",
      "John 56\n"
     ]
    }
   ],
   "source": [
    "for key in pb.keys():\n",
    "    print(key)\n",
    "for name,number in pb.items():\n",
    "    print(name,number)"
   ]
  },
  {
   "cell_type": "markdown",
   "metadata": {},
   "source": [
    "### Aufgabe\n",
    "\n",
    "Erzeugen Sie ein Disctionary, in dem für die ganzen Zahlen von 0 bis 10 jeweils das Quadrat der Zahl hinterlegt abgespeichert. Entfernen sie anschließend ale Einträge, bei denen die quadratierte Zahl gerade ist. "
   ]
  },
  {
   "cell_type": "code",
   "execution_count": 56,
   "metadata": {},
   "outputs": [
    {
     "name": "stdout",
     "output_type": "stream",
     "text": [
      "{0: 0, 1: 1, 2: 4, 3: 9, 4: 16, 5: 25, 6: 36, 7: 49, 8: 64, 9: 81, 10: 100}\n",
      "{1: 1, 3: 9, 5: 25, 7: 49, 9: 81}\n"
     ]
    }
   ],
   "source": [
    "dict1={}\n",
    "for i in range(0,11):\n",
    "    dict1[i]=pow(i,2)\n",
    "print(dict1)\n",
    "keystodelete=[]\n",
    "for key,value in dict1.items():\n",
    "    if(value%2==0):\n",
    "        keystodelete.append(key)\n",
    "for elem in keystodelete:\n",
    "    del(dict1[elem])\n",
    "print(dict1)"
   ]
  },
  {
   "cell_type": "markdown",
   "metadata": {},
   "source": [
    "# Funktionen"
   ]
  },
  {
   "cell_type": "code",
   "execution_count": 57,
   "metadata": {},
   "outputs": [],
   "source": [
    "def fak_loop(n=10):\n",
    "    f=1\n",
    "    for i in range(1,n+1,1):\n",
    "        f*=i\n",
    "    return(f)"
   ]
  },
  {
   "cell_type": "code",
   "execution_count": 60,
   "metadata": {},
   "outputs": [
    {
     "name": "stdout",
     "output_type": "stream",
     "text": [
      "120\n",
      "3628800\n"
     ]
    }
   ],
   "source": [
    "print(fak_loop(5))\n",
    "print(fak_loop())"
   ]
  },
  {
   "cell_type": "code",
   "execution_count": 64,
   "metadata": {},
   "outputs": [
    {
     "name": "stdout",
     "output_type": "stream",
     "text": [
      "1\n",
      "2\n"
     ]
    }
   ],
   "source": [
    "def returnAB():\n",
    "    return 1,2\n",
    "a,b=returnAB()\n",
    "print(a)\n",
    "print(b)"
   ]
  },
  {
   "cell_type": "markdown",
   "metadata": {},
   "source": [
    "### Aufgabe\n",
    "\n",
    "Erstellen Sie eine Funktion, die das größte gemeinsame Vielfache zweier Zahlen berechnet."
   ]
  },
  {
   "cell_type": "markdown",
   "metadata": {},
   "source": [
    "# Package import"
   ]
  },
  {
   "cell_type": "code",
   "execution_count": 72,
   "metadata": {},
   "outputs": [
    {
     "name": "stdout",
     "output_type": "stream",
     "text": [
      "30\n"
     ]
    }
   ],
   "source": [
    "import ggtFile\n",
    "print(ggtFile.ggt(120,30))"
   ]
  },
  {
   "cell_type": "code",
   "execution_count": 73,
   "metadata": {},
   "outputs": [
    {
     "name": "stdout",
     "output_type": "stream",
     "text": [
      "4\n"
     ]
    }
   ],
   "source": [
    "from ggtFile import ggt\n",
    "print(ggt(12,4))"
   ]
  },
  {
   "cell_type": "markdown",
   "metadata": {},
   "source": [
    "# Objektorientierung"
   ]
  },
  {
   "cell_type": "code",
   "execution_count": 71,
   "metadata": {},
   "outputs": [
    {
     "name": "stdout",
     "output_type": "stream",
     "text": [
      "Ich bin ein vektor mit 1,2\n",
      "Ich bin ein vektor mit 5,6\n",
      "Ich bin ein vektor mit 4,4 Länge:5.656854249492381\n"
     ]
    }
   ],
   "source": [
    "from math import sqrt\n",
    "class Vektor:\n",
    "    def __init__(self,a=0,b=0):\n",
    "        self.a=a\n",
    "        self.b=b\n",
    "    def __str__(self):\n",
    "        return 'Ich bin ein vektor mit '+str(self.a)+','+str(self.b)\n",
    "    def __add__(self,other):\n",
    "        return Vektor(self.a+other.a,self.b+other.b)\n",
    "    def length(self):\n",
    "        return sqrt(self.a**2+self.b**2)\n",
    "v1=Vektor(1,2)\n",
    "v2=Vektor(4,4)\n",
    "print(v1)\n",
    "print(v1+v2)\n",
    "print(str(v2)+' Länge:'+str(v2.length()))"
   ]
  },
  {
   "cell_type": "markdown",
   "metadata": {},
   "source": [
    "### Aufgaben zum Selbstlösen\n",
    "\n",
    "Die folgenden Aufgaben sind aus der Aufgabensammlung \"Grundlagen der Programmierung 1\" entnommen. Sie sollen diesmal in Python umgesetz werden. Sie können sich gerne an Ihrer Lösung aus \"GdP 1\" orientieren. Versuchen Sie aber mit den in Python zur Verfügung stehenden Mitteln ggf. eine alternative Umsetzung zu finden.Es besteht kein Zwang, die Aufgaben objektorientiert umzusetzen (Der Begriff Methode ist dann natürlich als Funktion zu verstehen).\n",
    "\n",
    "   1. Schreiben Sie eine Methode, die die Dimensionen eines rechteckigen Raumes in Metern erhält (in Form zweier Parameter für Länge und Breite), und dann berechnet und zurückgibt, wie viele Quadratmeter Teppich für diesen Raum benötigt werden.\n",
    "\n",
    "   2. Schreiben Sie nun eine zweite Methode, in der auch noch zusätzlich die Kosten pro Quadratmeter Teppich angegeben werden und diese am Ende zurückgegeben werden.\n",
    "\n",
    "   3. Schreiben Sie eine Methode `calculateDistance`, die zwei zweidimensionale Punkte mit ihren x- und y-Koordinaten als Parameter entgegennimmt und mit dem Satz des Pythagoras deren Abstand berechnet und zurückgibt. Schreiben Sie nun eine zweite Methode `calculateArea`, die mit Hilfe des Radius (der als Parameter in die Methode gegeben wird) den Flächeninhalt eines Kreises berechnet und zurückgibt (Recherchieren Sie dazu, wie man in Java sinnvoll mit Pi rechnen kann!). Schreiben Sie nun eine dritte Methode `calculateCircleArea`, die den Mittelpunkt sowie einen Punkt auf der Kreislinie als Parameter bekommt und unter Nutzung der beiden zuvor definierten Funktionen den Flächeninhalt berechnet und zurückgibt.\n",
    "\n",
    "   4. Ein Händler verlangt für seine Waren folgende Preise: \n",
    "        - 7 Cent pro Schraube (engl. screw)\n",
    "        - 4 Cent pro Mutter (engl. screw nut)\n",
    "        - 2 Cent pro Unterlegscheibe (engl. grommet)\n",
    "\n",
    "   Schreiben Sie eine Methode namens `calculatePrice`, die vom Anwender die Anzahl der Schrauben, Muttern und Unterlegscheiben per Eingabedialog erfragt und dann den Gesamtbetrag berechnet und auf der Konsole ausgibt.\n",
    "   \n",
    "   5. Schreiben Sie ein einfaches Schere-Stein-Papier-Spiel, in welchem Sie gegen das Programm spielen. Wer mit den Spielregeln nicht vertraut ist, kann diese unter https://de.wikipedia.org/wiki/Schere,_Stein,_Papier nachlesen. Dabei brauchen Sie einen Zufallsgenerator von zufälligen Zahlen von z.B. 0 bis 2, wobei jeder der drei möglichen Zahlen, die gewählt werden kann, einer Handgeste entspricht (0 = Schere, 1 = Stein, 2 = Papier). Außerdem muss auch der Spieler dazu aufgefordert werden, eine Zahl einzugeben und sich damit für Schere, Stein oder Papier zu entscheiden. Sobald das geschehen ist, werden die beiden Eingaben von dem Spiel ausgewertet und das Ergebnis auf der Konsole ausgegeben."
   ]
  },
  {
   "cell_type": "code",
   "execution_count": 74,
   "metadata": {},
   "outputs": [
    {
     "name": "stdout",
     "output_type": "stream",
     "text": [
      "20\n"
     ]
    }
   ],
   "source": [
    "def calcDim(länge,breite):\n",
    "    return länge*breite\n",
    "print(calcDim(5,4))"
   ]
  },
  {
   "cell_type": "code",
   "execution_count": 77,
   "metadata": {},
   "outputs": [
    {
     "name": "stdout",
     "output_type": "stream",
     "text": [
      "40€\n"
     ]
    }
   ],
   "source": [
    "def calcPrice(länge,breite,preis):\n",
    "    return str(länge*breite*preis)+'€'\n",
    "print(calcPrice(5,4,2))"
   ]
  },
  {
   "cell_type": "code",
   "execution_count": 9,
   "metadata": {},
   "outputs": [
    {
     "name": "stdout",
     "output_type": "stream",
     "text": [
      "1.4142135623730951\n",
      "28.274333882308138\n",
      "6.283185307179588\n"
     ]
    }
   ],
   "source": [
    "import math\n",
    "def calcDistance(x1,y1,x2,y2):\n",
    "    return math.sqrt(pow((x1+x2),2)+pow((y1+y2),2))\n",
    "def calcArea(radius):\n",
    "    return math.pi*pow(radius,2)\n",
    "def calcCircleArea(xm,ym,xkl,ykl):\n",
    "    return calcArea(calcDistance(xm,ym,xkl,ykl))\n",
    "print(calcDistance(0,0,1,1))\n",
    "print(calcArea(3))\n",
    "print(calcCircleArea(0,0,1,1))"
   ]
  },
  {
   "cell_type": "code",
   "execution_count": 10,
   "metadata": {},
   "outputs": [
    {
     "name": "stdout",
     "output_type": "stream",
     "text": [
      "Wie viele Schrauben?1\n",
      "Wie viele Muttern?1\n",
      "Wie viele Unterlegscheiben?1\n",
      "13\n"
     ]
    }
   ],
   "source": [
    "def calcPrice():\n",
    "    s=int(input(\"Wie viele Schrauben?\"))\n",
    "    m=int(input(\"Wie viele Muttern?\"))\n",
    "    u=int(input(\"Wie viele Unterlegscheiben?\"))\n",
    "    print(s*7+m*4+u*2)\n",
    "calcPrice()"
   ]
  },
  {
   "cell_type": "code",
   "execution_count": null,
   "metadata": {},
   "outputs": [],
   "source": []
  }
 ],
 "metadata": {
  "kernelspec": {
   "display_name": "Python 3",
   "language": "python",
   "name": "python3"
  },
  "language_info": {
   "codemirror_mode": {
    "name": "ipython",
    "version": 3
   },
   "file_extension": ".py",
   "mimetype": "text/x-python",
   "name": "python",
   "nbconvert_exporter": "python",
   "pygments_lexer": "ipython3",
   "version": "3.7.1"
  }
 },
 "nbformat": 4,
 "nbformat_minor": 2
}
