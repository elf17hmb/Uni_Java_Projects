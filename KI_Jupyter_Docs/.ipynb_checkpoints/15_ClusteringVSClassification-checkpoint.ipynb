{
 "cells": [
  {
   "cell_type": "markdown",
   "metadata": {},
   "source": [
    "## Aufgabe\n",
    "\n",
    "Im folgenden wurde ein künstlicher Datensatz mit Hilfe der Funktion `make_blobs()` erstellt. Er besteht aus drei Teilbereichen, die jeweils durch eine Gaussverteilung mit unterschiedlicher Standardabweichung erzeugt worden. Für jeden Punkt ist bekannt, durch welche der drei Gaussverteilungen er entstanden ist. Diese Klasseninformation ist in `y` gespeichert.\n",
    "\n",
    "Visualisieren Sie die tatsächliche Zugehörigkeit, die Clusterzugehörigkeit mittels K-Means und ein Klassifikationsergebnis mittels Logistic Regression. Erklären Sie die beobachteten Effekte."
   ]
  },
  {
   "cell_type": "code",
   "execution_count": 1,
   "metadata": {},
   "outputs": [],
   "source": [
    "from sklearn import datasets\n",
    "X,y = datasets.make_blobs(n_samples=1500,\n",
    "                          cluster_std=[1.0, 2.5, 0.5],\n",
    "                          random_state=170)"
   ]
  },
  {
   "cell_type": "code",
   "execution_count": null,
   "metadata": {},
   "outputs": [],
   "source": []
  }
 ],
 "metadata": {
  "kernelspec": {
   "display_name": "Python 3",
   "language": "python",
   "name": "python3"
  },
  "language_info": {
   "codemirror_mode": {
    "name": "ipython",
    "version": 3
   },
   "file_extension": ".py",
   "mimetype": "text/x-python",
   "name": "python",
   "nbconvert_exporter": "python",
   "pygments_lexer": "ipython3",
   "version": "3.7.1"
  }
 },
 "nbformat": 4,
 "nbformat_minor": 2
}
