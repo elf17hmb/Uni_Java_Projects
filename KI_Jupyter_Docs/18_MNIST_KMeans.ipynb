{
 "cells": [
  {
   "cell_type": "markdown",
   "metadata": {},
   "source": [
    "## Aufgabe\n",
    "\n",
    "Clustern Sie den MNIST-Datensatz handgeschriebener Ziffern mit Hilfe von K-Means und visualisieren Sie die Prototypen.\n",
    "\n",
    "### Zusatzaufgabe\n",
    "\n",
    "Trainieren Sie einen k-Nearest-Neighbor-Klassifikator, um den Prototypen einen Label zuzuweisen. Verwenden sie nun die gelabelten Prototypen als Datengrundlage für einen weiteren k-Nearest-Neighbor-Klassifikator. Wie unterscheiedet sich die Klassifikationsgüte, welchen Einfluss hat dieser Ansatz auf die Laufzeit?"
   ]
  },
  {
   "cell_type": "code",
   "execution_count": 1,
   "metadata": {},
   "outputs": [],
   "source": [
    "import gzip\n",
    "import os\n",
    "import numpy as np\n",
    "\n",
    "train_data = os.path.join(\"..\", \"DataSets\", \"mnist\", \n",
    "                          \"train-images-idx3-ubyte.gz\")\n",
    "train_labels = os.path.join(\"..\", \"DataSets\", \"mnist\", \"train-labels-idx1-ubyte.gz\")\n",
    "\n",
    "test_data = os.path.join(\"..\", \"DataSets\", \"mnist\", \"t10k-images-idx3-ubyte.gz\")\n",
    "test_labels = os.path.join(\"..\", \"DataSets\", \"mnist\", \"t10k-labels-idx1-ubyte.gz\")"
   ]
  },
  {
   "cell_type": "code",
   "execution_count": 2,
   "metadata": {
    "scrolled": true
   },
   "outputs": [
    {
     "name": "stdout",
     "output_type": "stream",
     "text": [
      "(60000, 28, 28)\n",
      "(10000, 28, 28)\n"
     ]
    }
   ],
   "source": [
    "def mnist_images(filename):\n",
    "    with gzip.open(filename, \"rb\") as file:\n",
    "        data = np.frombuffer(file.read(), np.uint8, offset = 16)\n",
    "        return data.reshape(-1, 28, 28) / 255\n",
    "    \n",
    "def mnist_labels(filename):\n",
    "    with gzip.open(filename, \"rb\") as file:\n",
    "        return np.frombuffer(file.read(), np.uint8, offset = 8)\n",
    "\n",
    "X_train = mnist_images(train_data)\n",
    "y_train = mnist_labels(train_labels)\n",
    "\n",
    "X_test = mnist_images(test_data)\n",
    "y_test = mnist_labels(test_labels)\n",
    "\n",
    "print(X_train.shape)\n",
    "print(X_test.shape)"
   ]
  },
  {
   "cell_type": "code",
   "execution_count": 3,
   "metadata": {
    "scrolled": true
   },
   "outputs": [
    {
     "data": {
      "image/png": "[encoded data removed]",
      "text/plain": [
       "<Figure size 1440x288 with 10 Axes>"
      ]
     },
     "metadata": {
      "needs_background": "light"
     },
     "output_type": "display_data"
    }
   ],
   "source": [
    "%matplotlib inline\n",
    "\n",
    "import matplotlib.pyplot as plt\n",
    "\n",
    "f,ax = plt.subplots(1,10)\n",
    "f.set_size_inches(20,4)\n",
    "\n",
    "for i in range(0,10):\n",
    "    plt.sca(ax[i])\n",
    "    plt.imshow(X_train[y_train==i,:,:][1])\n",
    "    plt.title(i)\n"
   ]
  }
 ],
 "metadata": {
  "kernelspec": {
   "display_name": "Python 3",
   "language": "python",
   "name": "python3"
  },
  "language_info": {
   "codemirror_mode": {
    "name": "ipython",
    "version": 3
   },
   "file_extension": ".py",
   "mimetype": "text/x-python",
   "name": "python",
   "nbconvert_exporter": "python",
   "pygments_lexer": "ipython3",
   "version": "3.6.8"
  }
 },
 "nbformat": 4,
 "nbformat_minor": 2
}
